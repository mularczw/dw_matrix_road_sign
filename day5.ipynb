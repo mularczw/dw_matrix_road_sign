{
  "nbformat": 4,
  "nbformat_minor": 0,
  "metadata": {
    "colab": {
      "name": "day5.ipynb",
      "provenance": [],
      "collapsed_sections": [],
      "mount_file_id": "17ssEgMW_zASy5CWu30TucPzTyJqdLLm7",
      "authorship_tag": "ABX9TyMqCAub8zau0J8u8Jz/ahIT",
      "include_colab_link": true
    },
    "kernelspec": {
      "name": "python3",
      "display_name": "Python 3"
    },
    "accelerator": "GPU"
  },
  "cells": [
    {
      "cell_type": "markdown",
      "metadata": {
        "id": "view-in-github",
        "colab_type": "text"
      },
      "source": [
        "<a href=\"https://colab.research.google.com/github/mularczw/dw_matrix_road_sign/blob/master/day5.ipynb\" target=\"_parent\"><img src=\"https://colab.research.google.com/assets/colab-badge.svg\" alt=\"Open In Colab\"/></a>"
      ]
    },
    {
      "cell_type": "code",
      "metadata": {
        "id": "JrI8rZsIoq03",
        "colab_type": "code",
        "colab": {
          "base_uri": "https://localhost:8080/",
          "height": 190
        },
        "outputId": "fe2da7e1-e455-4af0-9549-9d41d3aebc44"
      },
      "source": [
        "!pip install hyperopt"
      ],
      "execution_count": 1,
      "outputs": [
        {
          "output_type": "stream",
          "text": [
            "Requirement already satisfied: hyperopt in /usr/local/lib/python3.6/dist-packages (0.1.2)\n",
            "Requirement already satisfied: future in /usr/local/lib/python3.6/dist-packages (from hyperopt) (0.16.0)\n",
            "Requirement already satisfied: pymongo in /usr/local/lib/python3.6/dist-packages (from hyperopt) (3.10.1)\n",
            "Requirement already satisfied: networkx in /usr/local/lib/python3.6/dist-packages (from hyperopt) (2.4)\n",
            "Requirement already satisfied: six in /usr/local/lib/python3.6/dist-packages (from hyperopt) (1.12.0)\n",
            "Requirement already satisfied: numpy in /usr/local/lib/python3.6/dist-packages (from hyperopt) (1.18.2)\n",
            "Requirement already satisfied: scipy in /usr/local/lib/python3.6/dist-packages (from hyperopt) (1.4.1)\n",
            "Requirement already satisfied: tqdm in /usr/local/lib/python3.6/dist-packages (from hyperopt) (4.38.0)\n",
            "Requirement already satisfied: decorator>=4.3.0 in /usr/local/lib/python3.6/dist-packages (from networkx->hyperopt) (4.4.2)\n"
          ],
          "name": "stdout"
        }
      ]
    },
    {
      "cell_type": "code",
      "metadata": {
        "id": "b-c1TEJFHwIe",
        "colab_type": "code",
        "outputId": "4cb11e1a-adf7-49a7-bdff-e94a79ba1f38",
        "colab": {
          "base_uri": "https://localhost:8080/",
          "height": 51
        }
      },
      "source": [
        "import pandas as pd\n",
        "import numpy as np\n",
        "import os\n",
        "import datetime\n",
        "\n",
        "import tensorflow as tf\n",
        "from tensorflow.keras.models import Sequential\n",
        "from tensorflow.keras.layers import Conv2D, MaxPool2D, Dense, Flatten, Dropout\n",
        "from tensorflow.keras.utils import to_categorical\n",
        "\n",
        "import matplotlib.pyplot as plt\n",
        "from skimage import color, exposure\n",
        "\n",
        "from sklearn.metrics import accuracy_score\n",
        "\n",
        "from hyperopt import  hp, STATUS_OK, tpe, Trials, fmin\n",
        "\n",
        "%load_ext tensorboard"
      ],
      "execution_count": 15,
      "outputs": [
        {
          "output_type": "stream",
          "text": [
            "The tensorboard extension is already loaded. To reload it, use:\n",
            "  %reload_ext tensorboard\n"
          ],
          "name": "stdout"
        }
      ]
    },
    {
      "cell_type": "code",
      "metadata": {
        "id": "0n9ySbtNI1xt",
        "colab_type": "code",
        "outputId": "25bca264-365b-4122-dc02-8b8dc567cf01",
        "colab": {
          "base_uri": "https://localhost:8080/",
          "height": 34
        }
      },
      "source": [
        "cd '/content/drive/My Drive/Colab Notebooks/matrix/matrix_three/dw_matrix_road_sign'"
      ],
      "execution_count": 3,
      "outputs": [
        {
          "output_type": "stream",
          "text": [
            "/content/drive/My Drive/Colab Notebooks/matrix/matrix_three/dw_matrix_road_sign\n"
          ],
          "name": "stdout"
        }
      ]
    },
    {
      "cell_type": "code",
      "metadata": {
        "id": "_r3rZnWXJAwR",
        "colab_type": "code",
        "colab": {}
      },
      "source": [
        "train = pd.read_pickle('data/train.p')\n",
        "test = pd.read_pickle('data/test.p')\n",
        "\n",
        "X_train, y_train = train['features'], train['labels']\n",
        "X_test, y_test = test['features'], test['labels']"
      ],
      "execution_count": 0,
      "outputs": []
    },
    {
      "cell_type": "code",
      "metadata": {
        "id": "RnyEjYYhKEOU",
        "colab_type": "code",
        "outputId": "14866c96-98fd-4bab-8765-ee78091af013",
        "colab": {
          "base_uri": "https://localhost:8080/",
          "height": 34
        }
      },
      "source": [
        "if y_train.ndim == 1: y_train = to_categorical(y_train)\n",
        "if y_test.ndim == 1: y_test = to_categorical(y_test)\n",
        "\n",
        "input_shape = X_train.shape[1:]\n",
        "num_classes = y_train.shape[1]\n",
        "\n",
        "y_train.shape, y_test.shape, input_shape, num_classes"
      ],
      "execution_count": 5,
      "outputs": [
        {
          "output_type": "execute_result",
          "data": {
            "text/plain": [
              "((34799, 43), (4410, 43), (32, 32, 3), 43)"
            ]
          },
          "metadata": {
            "tags": []
          },
          "execution_count": 5
        }
      ]
    },
    {
      "cell_type": "code",
      "metadata": {
        "id": "fqHFx45RKfNS",
        "colab_type": "code",
        "colab": {}
      },
      "source": [
        "def train_model(model, X_train, y_train, params_fit={}):\n",
        "  model.compile(loss='categorical_crossentropy', optimizer='Adam', metrics=['accuracy'])\n",
        "  \n",
        "  logdir = os.path.join(\"logs\", datetime.datetime.now().strftime(\"%Y%m%d-%H%M%S\"))\n",
        "  tensorboard_callback = tf.keras.callbacks.TensorBoard(logdir, histogram_freq=1)\n",
        "\n",
        "  model.fit(\n",
        "      X_train,\n",
        "      y_train,\n",
        "      batch_size=params_fit.get('batch_size', 128),\n",
        "      epochs=params_fit.get('epochs', 5),\n",
        "      verbose=params_fit.get('verbose', 1),\n",
        "      validation_data=params_fit.get('validation_data', (X_train, y_train)),\n",
        "      callbacks=[tensorboard_callback]\n",
        "  )\n",
        "\n",
        "  return model"
      ],
      "execution_count": 0,
      "outputs": []
    },
    {
      "cell_type": "code",
      "metadata": {
        "id": "BoI0dbBOSvg3",
        "colab_type": "code",
        "colab": {}
      },
      "source": [
        "def predict(model_trained, X_test, y_test, scoring=accuracy_score):\n",
        "  y_test_norm = np.argmax(y_test, axis=1)\n",
        "  y_pred_prob = model_trained.predict(X_test)\n",
        "  y_pred = np.argmax(y_pred_prob, axis=1)\n",
        "\n",
        "  return accuracy_score(y_test_norm, y_pred)"
      ],
      "execution_count": 0,
      "outputs": []
    },
    {
      "cell_type": "code",
      "metadata": {
        "id": "c5Bjy7lac5LN",
        "colab_type": "code",
        "colab": {}
      },
      "source": [
        "def get_cnn_v5(input_shape, num_classes):\n",
        "  return Sequential([\n",
        "    Conv2D(filters=32, kernel_size=(3, 3), activation='relu', input_shape=input_shape),\n",
        "    Conv2D(filters=32, kernel_size=(3, 3), activation='relu', padding='same'),\n",
        "    MaxPool2D(),\n",
        "    Dropout(0.3),\n",
        "\n",
        "    Conv2D(filters=64, kernel_size=(3, 3), activation='relu', padding='same'),\n",
        "    Conv2D(filters=64, kernel_size=(3, 3), activation='relu'),\n",
        "    MaxPool2D(),\n",
        "    Dropout(0.3),\n",
        "\n",
        "    Conv2D(filters=64, kernel_size=(3, 3), activation='relu', padding='same'),\n",
        "    Conv2D(filters=64, kernel_size=(3, 3), activation='relu'),\n",
        "    MaxPool2D(),\n",
        "    Dropout(0.3),\n",
        "  \n",
        "    Flatten(),\n",
        "\n",
        "    Dense(1024, activation='relu'),\n",
        "    Dropout(0.3),\n",
        "\n",
        "    Dense(1024, activation='relu'),\n",
        "    Dropout(0.3),\n",
        "\n",
        "    Dense(num_classes, activation='softmax'),\n",
        "  ])"
      ],
      "execution_count": 0,
      "outputs": []
    },
    {
      "cell_type": "code",
      "metadata": {
        "id": "Wkk0FyiLfUFy",
        "colab_type": "code",
        "outputId": "fcadca20-53bb-4561-a8af-d196d4ea416a",
        "colab": {
          "base_uri": "https://localhost:8080/",
          "height": 224
        }
      },
      "source": [
        "model = get_cnn_v5(X_train[1].shape, num_classes)\n",
        "model_trained = train_model(model, X_train, y_train, params_fit={})\n",
        "predict(model_trained, X_test, y_test)"
      ],
      "execution_count": 11,
      "outputs": [
        {
          "output_type": "stream",
          "text": [
            "Epoch 1/5\n",
            "272/272 [==============================] - 4s 15ms/step - loss: 2.4894 - accuracy: 0.3233 - val_loss: 0.8725 - val_accuracy: 0.7061\n",
            "Epoch 2/5\n",
            "272/272 [==============================] - 4s 14ms/step - loss: 0.7986 - accuracy: 0.7477 - val_loss: 0.2616 - val_accuracy: 0.9203\n",
            "Epoch 3/5\n",
            "272/272 [==============================] - 4s 14ms/step - loss: 0.4488 - accuracy: 0.8572 - val_loss: 0.1413 - val_accuracy: 0.9588\n",
            "Epoch 4/5\n",
            "272/272 [==============================] - 4s 14ms/step - loss: 0.3209 - accuracy: 0.9009 - val_loss: 0.0886 - val_accuracy: 0.9752\n",
            "Epoch 5/5\n",
            "272/272 [==============================] - 4s 14ms/step - loss: 0.2689 - accuracy: 0.9189 - val_loss: 0.0698 - val_accuracy: 0.9793\n"
          ],
          "name": "stdout"
        },
        {
          "output_type": "execute_result",
          "data": {
            "text/plain": [
              "0.9473922902494331"
            ]
          },
          "metadata": {
            "tags": []
          },
          "execution_count": 11
        }
      ]
    },
    {
      "cell_type": "code",
      "metadata": {
        "id": "22Ti30hdrLYL",
        "colab_type": "code",
        "colab": {
          "base_uri": "https://localhost:8080/",
          "height": 51
        },
        "outputId": "d76b0ec5-da66-4ec8-b491-f45ebba76d89"
      },
      "source": [
        "model_trained.evaluate(X_test, y_test)[1]"
      ],
      "execution_count": 13,
      "outputs": [
        {
          "output_type": "stream",
          "text": [
            "138/138 [==============================] - 0s 3ms/step - loss: 0.2134 - accuracy: 0.9474\n"
          ],
          "name": "stdout"
        },
        {
          "output_type": "execute_result",
          "data": {
            "text/plain": [
              "0.9473922848701477"
            ]
          },
          "metadata": {
            "tags": []
          },
          "execution_count": 13
        }
      ]
    },
    {
      "cell_type": "code",
      "metadata": {
        "id": "fDIGCKWns54H",
        "colab_type": "code",
        "colab": {}
      },
      "source": [
        "def get_model(params):\n",
        "  return Sequential([\n",
        "    Conv2D(filters=32, kernel_size=(3, 3), activation='relu', input_shape=input_shape),\n",
        "    Conv2D(filters=32, kernel_size=(3, 3), activation='relu', padding='same'),\n",
        "    MaxPool2D(),\n",
        "    Dropout(params['dropout_cnn_block_one']),\n",
        "\n",
        "    Conv2D(filters=64, kernel_size=(3, 3), activation='relu', padding='same'),\n",
        "    Conv2D(filters=64, kernel_size=(3, 3), activation='relu'),\n",
        "    MaxPool2D(),\n",
        "    Dropout(params['dropout_cnn_block_two']),\n",
        "\n",
        "    Conv2D(filters=128, kernel_size=(3, 3), activation='relu', padding='same'),\n",
        "    Conv2D(filters=128, kernel_size=(3, 3), activation='relu'),\n",
        "    MaxPool2D(),\n",
        "    Dropout(params['dropout_cnn_block_three']),\n",
        "  \n",
        "    Flatten(),\n",
        "\n",
        "    Dense(1024, activation='relu'),\n",
        "    Dropout(params['dropout_dense_block_one']),\n",
        "\n",
        "    Dense(1024, activation='relu'),\n",
        "    Dropout(params['dropout_dense_block_two']),\n",
        "\n",
        "    Dense(num_classes, activation='softmax'),\n",
        "  ])"
      ],
      "execution_count": 0,
      "outputs": []
    },
    {
      "cell_type": "code",
      "metadata": {
        "id": "wuYZpWbzpSIU",
        "colab_type": "code",
        "colab": {}
      },
      "source": [
        "def func_obj(params):\n",
        "  model = get_model(params)\n",
        "  model.compile(loss='categorical_crossentropy', optimizer='Adam', metrics=['accuracy'])\n",
        "  \n",
        "  model.fit(\n",
        "      X_train,\n",
        "      y_train,\n",
        "      batch_size=128,#int(params.get('batch_size', 128)),\n",
        "      epochs=5,\n",
        "      verbose=0\n",
        "  )\n",
        "\n",
        "  score = model.evaluate(X_test, y_test, verbose=0)\n",
        "  accuracy = score[1]\n",
        "  print(params, 'accuracy={}'.format(accuracy))\n",
        "\n",
        "  return {'loss': -accuracy, 'status': STATUS_OK, 'model': model}"
      ],
      "execution_count": 0,
      "outputs": []
    },
    {
      "cell_type": "code",
      "metadata": {
        "id": "-H4tJGqvr-a5",
        "colab_type": "code",
        "colab": {
          "base_uri": "https://localhost:8080/",
          "height": 1000
        },
        "outputId": "22e92177-3335-4159-a240-3a31d0098700"
      },
      "source": [
        "space = {\n",
        "    'batch_size': hp.quniform('batch_size', 100, 200, 20),\n",
        "\n",
        "    'dropout_cnn_block_one': hp.uniform('dropout_cnn_block_one', 0.3, 0.5),\n",
        "    'dropout_cnn_block_two': hp.uniform('dropout_cnn_block_two', 0.3, 0.5),\n",
        "    'dropout_cnn_block_three': hp.uniform('dropout_cnn_block_three', 0.3, 0.5),\n",
        "\n",
        "    'dropout_dense_block_one': hp.uniform('dropout_dense_block_one', 0.3, 0.7),\n",
        "    'dropout_dense_block_two': hp.uniform('dropout_dense_block_two', 0.3, 0.7),\n",
        "}\n",
        "\n",
        "best = fmin(\n",
        "    func_obj,\n",
        "    space,\n",
        "    tpe.suggest,\n",
        "    30,\n",
        "    Trials()\n",
        ")"
      ],
      "execution_count": 30,
      "outputs": [
        {
          "output_type": "stream",
          "text": [
            "{'batch_size': 200.0, 'dropout_cnn_block_one': 0.3818921631893499, 'dropout_cnn_block_three': 0.3590152936411032, 'dropout_cnn_block_two': 0.36051184551925775, 'dropout_dense_block_one': 0.6239861480757875, 'dropout_dense_block_two': 0.5719458935835229}\n",
            "accuracy=0.9235827922821045\n",
            "{'batch_size': 180.0, 'dropout_cnn_block_one': 0.49328574827879945, 'dropout_cnn_block_three': 0.45415697787841475, 'dropout_cnn_block_two': 0.3425092047534983, 'dropout_dense_block_one': 0.4775858742065989, 'dropout_dense_block_two': 0.30538826304048605}\n",
            "accuracy=0.8446711897850037\n",
            "{'batch_size': 140.0, 'dropout_cnn_block_one': 0.4224416953984631, 'dropout_cnn_block_three': 0.4548362607550736, 'dropout_cnn_block_two': 0.4720655503061183, 'dropout_dense_block_one': 0.33474141246416367, 'dropout_dense_block_two': 0.34594086213619596}\n",
            "accuracy=0.8931972980499268\n",
            "{'batch_size': 140.0, 'dropout_cnn_block_one': 0.42183239324518135, 'dropout_cnn_block_three': 0.3902545999037679, 'dropout_cnn_block_two': 0.3244740848109161, 'dropout_dense_block_one': 0.36787145558801315, 'dropout_dense_block_two': 0.6184392981841782}\n",
            "accuracy=0.9342403411865234\n",
            "{'batch_size': 160.0, 'dropout_cnn_block_one': 0.32114271699038494, 'dropout_cnn_block_three': 0.45261630846559625, 'dropout_cnn_block_two': 0.450045204239509, 'dropout_dense_block_one': 0.575598400210372, 'dropout_dense_block_two': 0.5219275540780467}\n",
            "accuracy=0.9446712136268616\n",
            "{'batch_size': 120.0, 'dropout_cnn_block_one': 0.39021762067505755, 'dropout_cnn_block_three': 0.39099040767255455, 'dropout_cnn_block_two': 0.44405705453175304, 'dropout_dense_block_one': 0.48049965081694734, 'dropout_dense_block_two': 0.588671340051772}\n",
            "accuracy=0.9267573952674866\n",
            "{'batch_size': 160.0, 'dropout_cnn_block_one': 0.47046780564172325, 'dropout_cnn_block_three': 0.38321516875049616, 'dropout_cnn_block_two': 0.4134134340845839, 'dropout_dense_block_one': 0.5363829035120486, 'dropout_dense_block_two': 0.41440301151595804}\n",
            "accuracy=0.8961451053619385\n",
            "{'batch_size': 120.0, 'dropout_cnn_block_one': 0.3571330306742324, 'dropout_cnn_block_three': 0.34977416502500425, 'dropout_cnn_block_two': 0.4882858526582452, 'dropout_dense_block_one': 0.5254925537704996, 'dropout_dense_block_two': 0.45374453294664063}\n",
            "accuracy=0.9013605713844299\n",
            "{'batch_size': 120.0, 'dropout_cnn_block_one': 0.4362557450350485, 'dropout_cnn_block_three': 0.4603571411485181, 'dropout_cnn_block_two': 0.33293494339291085, 'dropout_dense_block_one': 0.6236419205486978, 'dropout_dense_block_two': 0.40241210168428354}\n",
            "accuracy=0.9136054515838623\n",
            "{'batch_size': 100.0, 'dropout_cnn_block_one': 0.4416212297107399, 'dropout_cnn_block_three': 0.4747468857433866, 'dropout_cnn_block_two': 0.3907641445278684, 'dropout_dense_block_one': 0.6315174210574255, 'dropout_dense_block_two': 0.4856603642473716}\n",
            "accuracy=0.8342403769493103\n",
            "{'batch_size': 120.0, 'dropout_cnn_block_one': 0.4113612896574655, 'dropout_cnn_block_three': 0.4629650700676988, 'dropout_cnn_block_two': 0.39292388235802733, 'dropout_dense_block_one': 0.6343604828910141, 'dropout_dense_block_two': 0.4016613105133342}\n",
            "accuracy=0.9371882081031799\n",
            "{'batch_size': 120.0, 'dropout_cnn_block_one': 0.39175266658898916, 'dropout_cnn_block_three': 0.3260302289852042, 'dropout_cnn_block_two': 0.4806814314382827, 'dropout_dense_block_one': 0.38669909142618253, 'dropout_dense_block_two': 0.6110140576513374}\n",
            "accuracy=0.9335600733757019\n",
            "{'batch_size': 120.0, 'dropout_cnn_block_one': 0.45804471547018116, 'dropout_cnn_block_three': 0.32634022025107695, 'dropout_cnn_block_two': 0.36498346439716406, 'dropout_dense_block_one': 0.3532940237157061, 'dropout_dense_block_two': 0.5610999918300252}\n",
            "accuracy=0.9498866200447083\n",
            "{'batch_size': 180.0, 'dropout_cnn_block_one': 0.44067476090400287, 'dropout_cnn_block_three': 0.4583643243407425, 'dropout_cnn_block_two': 0.3326734319693559, 'dropout_dense_block_one': 0.573217564304844, 'dropout_dense_block_two': 0.6862002163887634}\n",
            "accuracy=0.8945578336715698\n",
            "{'batch_size': 100.0, 'dropout_cnn_block_one': 0.48687842397855086, 'dropout_cnn_block_three': 0.32807288117405664, 'dropout_cnn_block_two': 0.32245761208388896, 'dropout_dense_block_one': 0.5357306461633458, 'dropout_dense_block_two': 0.5232250547463513}\n",
            "accuracy=0.942176878452301\n",
            "{'batch_size': 180.0, 'dropout_cnn_block_one': 0.40963123785266214, 'dropout_cnn_block_three': 0.45735098302708954, 'dropout_cnn_block_two': 0.47036168630289266, 'dropout_dense_block_one': 0.3374083502211621, 'dropout_dense_block_two': 0.3020739691537893}\n",
            "accuracy=0.9560090899467468\n",
            "{'batch_size': 160.0, 'dropout_cnn_block_one': 0.4943245597428576, 'dropout_cnn_block_three': 0.4212171941336751, 'dropout_cnn_block_two': 0.39450432389215573, 'dropout_dense_block_one': 0.3025828189302349, 'dropout_dense_block_two': 0.6225637298768041}\n",
            "accuracy=0.9011337757110596\n",
            "{'batch_size': 140.0, 'dropout_cnn_block_one': 0.3697643554637292, 'dropout_cnn_block_three': 0.4225537448206091, 'dropout_cnn_block_two': 0.3654344567276234, 'dropout_dense_block_one': 0.5427612406270854, 'dropout_dense_block_two': 0.3600071190717242}\n",
            "accuracy=0.9505668878555298\n",
            "{'batch_size': 200.0, 'dropout_cnn_block_one': 0.3245265148456709, 'dropout_cnn_block_three': 0.3359100121406673, 'dropout_cnn_block_two': 0.4795842521959691, 'dropout_dense_block_one': 0.669669405006565, 'dropout_dense_block_two': 0.570975915255705}\n",
            "accuracy=0.9455782175064087\n",
            "{'batch_size': 120.0, 'dropout_cnn_block_one': 0.32896098181223443, 'dropout_cnn_block_three': 0.35063242033183906, 'dropout_cnn_block_two': 0.45762414910677934, 'dropout_dense_block_one': 0.6403266731881797, 'dropout_dense_block_two': 0.4254404918910372}\n",
            "accuracy=0.9539682269096375\n",
            "{'batch_size': 180.0, 'dropout_cnn_block_one': 0.34562055395164915, 'dropout_cnn_block_three': 0.3006678956047539, 'dropout_cnn_block_two': 0.4460925676727654, 'dropout_dense_block_one': 0.4340408338364401, 'dropout_dense_block_two': 0.3136972365860549}\n",
            "accuracy=0.9462584853172302\n",
            "{'batch_size': 200.0, 'dropout_cnn_block_one': 0.3406677997988973, 'dropout_cnn_block_three': 0.49798444904074307, 'dropout_cnn_block_two': 0.42452807407146453, 'dropout_dense_block_one': 0.6929847899495554, 'dropout_dense_block_two': 0.34979252858953536}\n",
            "accuracy=0.8727891445159912\n",
            "{'batch_size': 180.0, 'dropout_cnn_block_one': 0.3024407838669865, 'dropout_cnn_block_three': 0.4219013479662342, 'dropout_cnn_block_two': 0.49376603916300393, 'dropout_dense_block_one': 0.4147659815356001, 'dropout_dense_block_two': 0.450221077234877}\n",
            "accuracy=0.9512471556663513\n",
            "{'batch_size': 100.0, 'dropout_cnn_block_one': 0.30099083732616705, 'dropout_cnn_block_three': 0.49433953175974465, 'dropout_cnn_block_two': 0.45905513931662123, 'dropout_dense_block_one': 0.3103207504307617, 'dropout_dense_block_two': 0.302115926673333}\n",
            "accuracy=0.9616780281066895\n",
            "{'batch_size': 160.0, 'dropout_cnn_block_one': 0.3038104526522655, 'dropout_cnn_block_three': 0.48210692801269306, 'dropout_cnn_block_two': 0.43167565440113065, 'dropout_dense_block_one': 0.3015347865738202, 'dropout_dense_block_two': 0.3158491767771223}\n",
            "accuracy=0.9621315002441406\n",
            "{'batch_size': 160.0, 'dropout_cnn_block_one': 0.30026638833877806, 'dropout_cnn_block_three': 0.4871842998958649, 'dropout_cnn_block_two': 0.4308447839458477, 'dropout_dense_block_one': 0.30552855868197304, 'dropout_dense_block_two': 0.3684694198566987}\n",
            "accuracy=0.956462562084198\n",
            "{'batch_size': 140.0, 'dropout_cnn_block_one': 0.3074876668031627, 'dropout_cnn_block_three': 0.49750839278035824, 'dropout_cnn_block_two': 0.41555257272290247, 'dropout_dense_block_one': 0.43994438904237093, 'dropout_dense_block_two': 0.3238525197901459}\n",
            "accuracy=0.942630410194397\n",
            "{'batch_size': 100.0, 'dropout_cnn_block_one': 0.3649247991891565, 'dropout_cnn_block_three': 0.43632419745578993, 'dropout_cnn_block_two': 0.46119709081631904, 'dropout_dense_block_one': 0.31397995460862205, 'dropout_dense_block_two': 0.6971725487044353}\n",
            "accuracy=0.9160997867584229\n",
            "{'batch_size': 160.0, 'dropout_cnn_block_one': 0.30891448461812987, 'dropout_cnn_block_three': 0.47622723406713313, 'dropout_cnn_block_two': 0.4314446211344213, 'dropout_dense_block_one': 0.39587093520951666, 'dropout_dense_block_two': 0.3838635047599329}\n",
            "accuracy=0.9630385637283325\n",
            "{'batch_size': 160.0, 'dropout_cnn_block_one': 0.3139818117090116, 'dropout_cnn_block_three': 0.4397990427878524, 'dropout_cnn_block_two': 0.3836878536167858, 'dropout_dense_block_one': 0.40758708845206, 'dropout_dense_block_two': 0.4633628792201054}\n",
            "accuracy=0.9560090899467468\n",
            "100%|██████████| 30/30 [05:32<00:00, 11.10s/it, best loss: -0.9630385637283325]\n"
          ],
          "name": "stdout"
        }
      ]
    }
  ]
}